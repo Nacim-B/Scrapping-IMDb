{
 "cells": [
  {
   "cell_type": "code",
   "execution_count": 55,
   "id": "cc653f72",
   "metadata": {},
   "outputs": [],
   "source": [
    "import requests\n",
    "import bs4\n",
    "from bs4 import BeautifulSoup\n",
    "import csv"
   ]
  },
  {
   "cell_type": "code",
   "execution_count": 63,
   "id": "65928908",
   "metadata": {},
   "outputs": [],
   "source": [
    "url = 'https://www.imdb.com/chart/top/?ref_=nv_mv_250'\n",
    "r = requests.get(url)\n",
    "soup = bs4.BeautifulSoup(r.text,'html.parser')\n",
    "\n",
    "movies_array = []\n",
    "\n",
    "nbOfMovies = len(soup.find_all('td',{'class':'titleColumn'}))\n",
    "\n",
    "for i in range(nbOfMovies):\n",
    "    dictMovie={}\n",
    "    actors = []\n",
    "    \n",
    "    dictMovie['Title'] = soup.find_all('td',{'class':'titleColumn'})[i].find_all('a')[-1].text\n",
    "    \n",
    "    dictMovie['Year'] = soup.find_all('td',{'class':'titleColumn'})[i].find_all('span',\n",
    "                        {'class':'secondaryInfo'})[-1].text.replace('(','').replace(')','')\n",
    "\n",
    "    dictMovie['Url'] = 'https://imdb.com'+soup.find_all('td',{'class':'titleColumn'})[i].a['href']\n",
    "    \n",
    "    tempreq = requests.get(dictMovie['Url'])\n",
    "    tempSoup = bs4.BeautifulSoup(tempreq.text,'html.parser')\n",
    "    \n",
    "    dictMovie['Genre'] = tempSoup.find_all('li',{'class':'ipc-inline-list__item ipc-chip__text'})[-1].text\n",
    "    dictMovie['Director'] = tempSoup.find_all('div',{'class':'ipc-metadata-list-item__content-container'})[0].text\n",
    "    dictMovie['Actors'] = actors\n",
    "    \n",
    "    nbOfActors = len(tempSoup.find_all('a',{'class':'sc-36c36dd0-1 QSQgP'}))\n",
    "    \n",
    "    for n in range(nbOfActors):\n",
    "        actors.append(tempSoup.find_all('a',{'class':'sc-36c36dd0-1 QSQgP'})[n].text)\n",
    "    \n",
    "    movies_array.append(dictMovie)"
   ]
  },
  {
   "cell_type": "code",
   "execution_count": 67,
   "id": "99d7c46d",
   "metadata": {},
   "outputs": [],
   "source": [
    "with open('Top250Movies.csv','w',newline=\"\", encoding='utf-8') as f:\n",
    "    cols = ['Title','Year','Url','Genre','Director','Actors']\n",
    "    writer = csv.DictWriter(f, fieldnames = cols)\n",
    "    writer.writeheader()\n",
    "    writer.writerows(movies_array)"
   ]
  },
  {
   "cell_type": "code",
   "execution_count": null,
   "id": "2976811e",
   "metadata": {},
   "outputs": [],
   "source": []
  }
 ],
 "metadata": {
  "kernelspec": {
   "display_name": "Python 3 (ipykernel)",
   "language": "python",
   "name": "python3"
  },
  "language_info": {
   "codemirror_mode": {
    "name": "ipython",
    "version": 3
   },
   "file_extension": ".py",
   "mimetype": "text/x-python",
   "name": "python",
   "nbconvert_exporter": "python",
   "pygments_lexer": "ipython3",
   "version": "3.9.7"
  }
 },
 "nbformat": 4,
 "nbformat_minor": 5
}
