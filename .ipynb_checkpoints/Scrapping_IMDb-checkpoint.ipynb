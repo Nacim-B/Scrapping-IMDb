{
 "cells": [
  {
   "cell_type": "code",
   "execution_count": 2,
   "id": "cc653f72",
   "metadata": {},
   "outputs": [],
   "source": [
    "import requests"
   ]
  },
  {
   "cell_type": "code",
   "execution_count": 4,
   "id": "57d1fbf4",
   "metadata": {},
   "outputs": [],
   "source": [
    "response = requests.get(\"https://imdb-api.com/en/API/Top250Movies/k_12345678\")"
   ]
  },
  {
   "cell_type": "raw",
   "id": "6b972a6f",
   "metadata": {},
   "source": []
  }
 ],
 "metadata": {
  "kernelspec": {
   "display_name": "Python 3 (ipykernel)",
   "language": "python",
   "name": "python3"
  },
  "language_info": {
   "codemirror_mode": {
    "name": "ipython",
    "version": 3
   },
   "file_extension": ".py",
   "mimetype": "text/x-python",
   "name": "python",
   "nbconvert_exporter": "python",
   "pygments_lexer": "ipython3",
   "version": "3.9.7"
  }
 },
 "nbformat": 4,
 "nbformat_minor": 5
}
