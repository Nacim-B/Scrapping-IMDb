{
 "cells": [
  {
   "cell_type": "code",
   "execution_count": 1,
   "id": "cc653f72",
   "metadata": {},
   "outputs": [],
   "source": [
    "import requests\n",
    "import bs4\n",
    "from bs4 import BeautifulSoup\n",
    "\n",
    "url = 'https://www.imdb.com/chart/top/?ref_=nv_mv_250'"
   ]
  },
  {
   "cell_type": "code",
   "execution_count": 2,
   "id": "86e9a5fa",
   "metadata": {},
   "outputs": [],
   "source": [
    "r = requests.get(url)\n",
    "soup = bs4.BeautifulSoup(r.text,'html.parser')"
   ]
  },
  {
   "cell_type": "code",
   "execution_count": 48,
   "id": "65928908",
   "metadata": {},
   "outputs": [],
   "source": [
    "titles=[]\n",
    "years=[]\n",
    "urls=[]\n",
    "\n",
    "topMovies = len(soup.find_all('td',{'class':'titleColumn'}))\n",
    "\n",
    "for i in range(topMovies):\n",
    "    movies.append(soup.find_all('td',{'class':'titleColumn'})[i].find_all('a')[-1].text)\n",
    "    years.append(soup.find_all('td',{'class':'titleColumn'})[i].find_all('span',{'class':'secondaryInfo'})[-1].text)\n",
    "    urls.append(soup.find_all('td',{'class':'titleColumn'})[i].a['href'])    "
   ]
  },
  {
   "cell_type": "code",
   "execution_count": 52,
   "id": "9f32db89",
   "metadata": {},
   "outputs": [],
   "source": [
    "actors = []\n",
    "genres = []\n",
    "\n",
    "for url in urls:\n",
    "    r2 = requests.get(\"https://imdb.com\"+url)\n",
    "    soup2 = bs4.BeautifulSoup(r2.text,'html.parser')\n",
    "    \n",
    "    genres.append(soup2.find_all('li',{'class':'ipc-inline-list__item ipc-chip__text'})[-1].text)"
   ]
  },
  {
   "cell_type": "code",
   "execution_count": 54,
   "id": "99d7c46d",
   "metadata": {},
   "outputs": [
    {
     "data": {
      "text/plain": [
       "250"
      ]
     },
     "execution_count": 54,
     "metadata": {},
     "output_type": "execute_result"
    }
   ],
   "source": [
    "len(genres)"
   ]
  },
  {
   "cell_type": "code",
   "execution_count": null,
   "id": "22b0dcf4",
   "metadata": {},
   "outputs": [],
   "source": [
    "json = {}"
   ]
  }
 ],
 "metadata": {
  "kernelspec": {
   "display_name": "Python 3 (ipykernel)",
   "language": "python",
   "name": "python3"
  },
  "language_info": {
   "codemirror_mode": {
    "name": "ipython",
    "version": 3
   },
   "file_extension": ".py",
   "mimetype": "text/x-python",
   "name": "python",
   "nbconvert_exporter": "python",
   "pygments_lexer": "ipython3",
   "version": "3.9.7"
  }
 },
 "nbformat": 4,
 "nbformat_minor": 5
}
